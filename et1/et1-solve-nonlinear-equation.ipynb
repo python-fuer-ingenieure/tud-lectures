{
 "cells": [
  {
   "cell_type": "code",
   "execution_count": null,
   "id": "08e4bb73",
   "metadata": {},
   "outputs": [],
   "source": [
    "from scipy.optimize import newton\n",
    "import numpy as np\n",
    "import matplotlib.pyplot as plt"
   ]
  },
  {
   "cell_type": "code",
   "execution_count": null,
   "id": "992de4ad",
   "metadata": {},
   "outputs": [],
   "source": [
    "# Parameter\n",
    "\n",
    "I0 = 0.3  # A\n",
    "IS = 3e-16 # = 3*10**-16  # A\n",
    "n = 2.2\n",
    "R1 = 20 # Ohm\n",
    "R2 = 240 # Ohm\n",
    "RS = 18 # Ohm\n",
    "UT = .026 # V\n",
    "\n",
    "UL = I0*R1\n",
    "Ri = R1 + R2"
   ]
  },
  {
   "cell_type": "code",
   "execution_count": null,
   "id": "6093008b",
   "metadata": {},
   "outputs": [],
   "source": [
    "def equation_error(ID):\n",
    "    \"\"\"\n",
    "    Diese Funktion berechnet den \"Gleichungsfehler\" in Abhängigkeit von ID\n",
    "    \"\"\"\n",
    "    return - UL + ID*(Ri + RS) + n*UT*np.log(ID/IS + 1)\n",
    "    "
   ]
  },
  {
   "cell_type": "code",
   "execution_count": null,
   "id": "7e764163",
   "metadata": {},
   "outputs": [],
   "source": [
    "# Lösen der Gleichung mit Newton-Verfahren\n",
    "newton(func=equation_error, x0=0)\n"
   ]
  },
  {
   "cell_type": "code",
   "execution_count": null,
   "id": "3d213a1a",
   "metadata": {},
   "outputs": [],
   "source": [
    "# Plot der Kennlinie\n",
    "ID = np.arange(0., 0.05, 1e-4) \n",
    "UD = RS*ID+n*UT*np.log(ID/IS + 1)\n",
    "\n",
    "UD_plot, ax1 = plt.subplots(1,1)\n",
    "ax1.plot(UD, ID*1000, color='red', linestyle='-', linewidth=2, label='Kennlinie LED', zorder=4)\n",
    "\n",
    "# Darstellung und Beschriftung anpassen \n",
    "ax1.legend(frameon=True, loc='upper center', bbox_to_anchor=(0.4, 1), facecolor='white', framealpha=1)\n",
    "ax1.set_xlim([0, 3])\n",
    "ax1.set_ylim([0, 30])\n",
    "ax1.set_xlabel(r'$U/\\mathrm{V}$', loc='right')\n",
    "ax1.set_ylabel(r'$I/\\mathrm{mA}$', rotation='horizontal', loc='top')\n",
    "ax1.yaxis.set_label_coords(-0.05, 0.95)\n",
    "ax1.tick_params(axis='both', which='major')\n",
    "ax1.grid(visible=True)"
   ]
  },
  {
   "cell_type": "code",
   "execution_count": null,
   "id": "74c11255",
   "metadata": {},
   "outputs": [],
   "source": []
  }
 ],
 "metadata": {
  "kernelspec": {
   "display_name": "Python 3 (ipykernel)",
   "language": "python",
   "name": "python3"
  },
  "language_info": {
   "codemirror_mode": {
    "name": "ipython",
    "version": 3
   },
   "file_extension": ".py",
   "mimetype": "text/x-python",
   "name": "python",
   "nbconvert_exporter": "python",
   "pygments_lexer": "ipython3",
   "version": "3.9.16"
  }
 },
 "nbformat": 4,
 "nbformat_minor": 5
}
