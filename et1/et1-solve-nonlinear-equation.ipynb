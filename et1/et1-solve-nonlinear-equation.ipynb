{
 "cells": [
  {
   "cell_type": "code",
   "execution_count": null,
   "id": "08e4bb73",
   "metadata": {},
   "outputs": [],
   "source": [
    "from scipy.optimize import newton\n",
    "import numpy as np\n",
    "import matplotlib.pyplot as plt"
   ]
  },
  {
   "cell_type": "code",
   "execution_count": null,
   "id": "992de4ad",
   "metadata": {},
   "outputs": [],
   "source": [
    "# Parameter\n",
    "\n",
    "I0 = 0.3  # A\n",
    "IS = 3e-16 # = 3*10**-16  # A\n",
    "n = 2.2\n",
    "R1 = 20 # Ohm\n",
    "R2 = 240 # Ohm\n",
    "RS = 18 # Ohm\n",
    "UT = .026 # V\n",
    "\n",
    "UL = I0*R1\n",
    "Ri = R1 + R2"
   ]
  },
  {
   "cell_type": "code",
   "execution_count": null,
   "id": "6093008b",
   "metadata": {},
   "outputs": [],
   "source": [
    "def equation_error(ID):\n",
    "    \"\"\"\n",
    "    Diese Funktion berechnet den \"Gleichungsfehler\" in Abhängigkeit von ID\n",
    "    \"\"\"\n",
    "    return - UL + ID*(Ri + RS) + n*UT*np.log(ID/IS + 1)\n",
    "    "
   ]
  },
  {
   "cell_type": "code",
   "execution_count": null,
   "id": "7e764163",
   "metadata": {},
   "outputs": [],
   "source": [
    "newton(func=equation_error, x0=0)"
   ]
  }
 ],
 "metadata": {
  "kernelspec": {
   "display_name": "Python 3 (ipykernel)",
   "language": "python",
   "name": "python3"
  },
  "language_info": {
   "codemirror_mode": {
    "name": "ipython",
    "version": 3
   },
   "file_extension": ".py",
   "mimetype": "text/x-python",
   "name": "python",
   "nbconvert_exporter": "python",
   "pygments_lexer": "ipython3",
   "version": "3.9.16"
  }
 },
 "nbformat": 4,
 "nbformat_minor": 5
}
